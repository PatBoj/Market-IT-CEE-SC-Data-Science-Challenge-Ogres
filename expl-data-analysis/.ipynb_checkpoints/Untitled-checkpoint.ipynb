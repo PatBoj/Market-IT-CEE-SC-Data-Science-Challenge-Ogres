{
 "cells": [
  {
   "cell_type": "code",
   "execution_count": 2,
   "id": "0e57526f",
   "metadata": {},
   "outputs": [],
   "source": [
    "import numpy as np\n",
    "import pandas as pd\n",
    "import matplotlib.pyplot as plt"
   ]
  },
  {
   "cell_type": "code",
   "execution_count": 25,
   "id": "9bd801ae",
   "metadata": {},
   "outputs": [
    {
     "name": "stdout",
     "output_type": "stream",
     "text": [
      "           Date  SanEscobarPablos  GalacticCredits  7KingdomsGoldenDragons\n",
      "0    1000-01-03          1.000000         1.000000                1.000000\n",
      "1    1000-01-10          0.992992         0.993418                0.988996\n",
      "2    1000-01-17          0.988567         0.984193                0.981877\n",
      "3    1000-01-24          0.999371         0.993381                0.984385\n",
      "4    1000-01-31          1.014246         1.009505                0.992576\n",
      "..          ...               ...              ...                     ...\n",
      "504  1009-09-01          3.734013         1.781049                1.152489\n",
      "505  1009-09-08          3.725841         1.781063                1.151324\n",
      "506  1009-09-15          3.667033         1.763477                1.145472\n",
      "507  1009-09-22          3.694200         1.767235                1.145266\n",
      "508  1009-09-29          3.734622         1.773911                1.148276\n",
      "\n",
      "[509 rows x 4 columns]\n",
      "           Date  bioFruitPulpPrice\n",
      "0    1000-01-03           1.000000\n",
      "1    1000-01-10           1.038779\n",
      "2    1000-01-17           1.027378\n",
      "3    1000-01-24           0.993185\n",
      "4    1000-01-31           0.979005\n",
      "..          ...                ...\n",
      "512  1009-10-27           0.765565\n",
      "513  1009-11-03           0.777222\n",
      "514  1009-11-10           0.791260\n",
      "515  1009-11-17           0.797337\n",
      "516  1009-11-24           0.808808\n",
      "\n",
      "[517 rows x 2 columns]\n"
     ]
    }
   ],
   "source": [
    "# Import data\n",
    "\n",
    "data_currency = pd.read_csv('../data/currencies_history.csv')\n",
    "print(data_currency)\n",
    "\n",
    "data_fuel_price = pd.read_csv('../data/Q4C_hint1.csv')\n",
    "del data_fuel_price['Unnamed: 0']\n",
    "print(data_fuel_price)"
   ]
  },
  {
   "cell_type": "code",
   "execution_count": null,
   "id": "8f768f6e",
   "metadata": {},
   "outputs": [],
   "source": []
  }
 ],
 "metadata": {
  "kernelspec": {
   "display_name": "Python 3 (ipykernel)",
   "language": "python",
   "name": "python3"
  },
  "language_info": {
   "codemirror_mode": {
    "name": "ipython",
    "version": 3
   },
   "file_extension": ".py",
   "mimetype": "text/x-python",
   "name": "python",
   "nbconvert_exporter": "python",
   "pygments_lexer": "ipython3",
   "version": "3.9.13"
  }
 },
 "nbformat": 4,
 "nbformat_minor": 5
}
